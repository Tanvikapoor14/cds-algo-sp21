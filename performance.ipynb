{
 "cells": [
  {
   "cell_type": "code",
   "execution_count": 1,
   "id": "abf150bc-707c-4f4f-8953-3339f954eac3",
   "metadata": {},
   "outputs": [],
   "source": [
    "import pandas as pd\n",
    "import portfolio\n",
    "import sectordata\n",
    "from datetime import date, datetime, timedelta"
   ]
  },
  {
   "cell_type": "code",
   "execution_count": 2,
   "id": "05e44550-eb84-4bdc-817d-2db0fec55740",
   "metadata": {},
   "outputs": [],
   "source": [
    "from scipy.cluster.hierarchy import ClusterWarning\n",
    "from warnings import simplefilter\n",
    "simplefilter(\"ignore\", ClusterWarning)"
   ]
  },
  {
   "cell_type": "code",
   "execution_count": 3,
   "id": "fd28ba46-6f8b-406c-99f6-c788256b1b3b",
   "metadata": {},
   "outputs": [
    {
     "name": "stdout",
     "output_type": "stream",
     "text": [
      "98.51360282907274\n",
      "103.29567844843277\n",
      "{'Communication': 131.44, 'Utilities': 159.89, 'Energy': 562.93, 'Real_Estate': 128.43, 'Cons_Staples': 314.85, 'Healthcare': 387.21, 'Financials': 220.72, 'Industrials': 321.21, 'Materials': 244.25, 'Cons_Disc': 308.09, 'Info_Tech': 411.19}\n"
     ]
    }
   ],
   "source": [
    "p = portfolio.Portfolio(100/11)\n",
    "print(p.get_portfolio_value('2011-04-12'))\n",
    "print(p.get_portfolio_value('2012-04-12'))\n",
    "print(p.get_sector_values('2011-04-12'))"
   ]
  },
  {
   "cell_type": "code",
   "execution_count": 4,
   "id": "be9c3f8d-666e-478b-9f4f-370bd86306f0",
   "metadata": {},
   "outputs": [
    {
     "name": "stdout",
     "output_type": "stream",
     "text": [
      "START: 132.722\n",
      "FINAL: 260.069\n",
      "Percentage gain: 95.95%\n"
     ]
    }
   ],
   "source": [
    "p.rebalance_portfolio('2014-04-11')\n",
    "\n",
    "start = 0 \n",
    "for i in p.amt_categories:\n",
    "    start += p.amt_categories[i]\n",
    "\n",
    "print(f'START: {start:.3f}')\n",
    "\n",
    "p.rebalance_portfolio('2021-04-13')\n",
    "\n",
    "final = 0 \n",
    "for i in p.amt_categories:\n",
    "    final += p.amt_categories[i]\n",
    "\n",
    "print(f'FINAL: {final:.3f}')\n",
    "print(f'Percentage gain: {(final/start-1)*100:.2f}%')"
   ]
  },
  {
   "cell_type": "code",
   "execution_count": 5,
   "id": "3ec90a15-393b-4b7b-9f02-8d3796052838",
   "metadata": {},
   "outputs": [],
   "source": [
    "def calculate_returns(start, end):\n",
    "    p = portfolio.Portfolio(100/11)\n",
    "    p.rebalance_portfolio(start)\n",
    "    \n",
    "    total_s = 0 \n",
    "    for i in p.amt_categories:\n",
    "        total_s += p.amt_categories[i]\n",
    "\n",
    "    p.rebalance_portfolio(end)\n",
    "\n",
    "    total_e = 0 \n",
    "    for i in p.amt_categories:\n",
    "        total_e += p.amt_categories[i]\n",
    "        \n",
    "    percent_return = total_e/total_s - 1\n",
    "    return percent_return"
   ]
  },
  {
   "cell_type": "code",
   "execution_count": 6,
   "id": "ef2bcd90-e5f7-4209-bc65-6f0b873bc6bd",
   "metadata": {},
   "outputs": [],
   "source": [
    "def calculate_SP500_returns(start, end):\n",
    "    start_val = sectordata.get_SP500_value(start)\n",
    "    end_val =  sectordata.get_SP500_value(end)\n",
    "    percent_return = end_val/start_val - 1\n",
    "    return percent_return"
   ]
  },
  {
   "cell_type": "code",
   "execution_count": 7,
   "id": "960c7b1a-e3e8-4a4f-bd6d-28147fc656f7",
   "metadata": {},
   "outputs": [
    {
     "name": "stdout",
     "output_type": "stream",
     "text": [
      "0.9595043516803878\n",
      "1.2810006113378387\n"
     ]
    }
   ],
   "source": [
    "print(calculate_returns('2014-04-11', '2021-04-13'))\n",
    "print(calculate_SP500_returns('2014-04-11', '2021-04-13'))"
   ]
  },
  {
   "cell_type": "code",
   "execution_count": 8,
   "id": "20f08299-7d85-4aeb-9a51-927e03eeb54e",
   "metadata": {},
   "outputs": [],
   "source": [
    "def intervals(start, end, delta_days):\n",
    "    delta = timedelta(days = delta_days)\n",
    "    start_date = date.fromisoformat(start)\n",
    "    end_date = date.fromisoformat(end)\n",
    "    lst = []\n",
    "    curr_date = start_date\n",
    "    while curr_date < end_date:\n",
    "        if curr_date.weekday() < 5:\n",
    "            lst.append(curr_date.isoformat())\n",
    "        curr_date += delta\n",
    "    return lst"
   ]
  },
  {
   "cell_type": "code",
   "execution_count": null,
   "id": "61557540-4973-4ba2-9de6-060fd7bbff51",
   "metadata": {},
   "outputs": [],
   "source": []
  },
  {
   "cell_type": "code",
   "execution_count": 9,
   "id": "ae0216e7-f83a-47c4-a564-43c8cbbfd37d",
   "metadata": {},
   "outputs": [],
   "source": [
    "def test_performance(frequency):\n",
    "    p = portfolio.Portfolio(100/11)\n",
    "    start_date = '2011-04-01'\n",
    "    end_date = '2021-04-11'\n",
    "    p.rebalance_portfolio(start_date)\n",
    "    start_val = 100\n",
    "    rebalance_dates = intervals(start_date, end_date, frequency)\n",
    "    for d in rebalance_dates:\n",
    "        p.rebalance_portfolio(d)\n",
    "    \n",
    "    portfolio_return = p.get_portfolio_value('2021-04-15')/start_val-1 \n",
    "    sp500_return = calculate_SP500_returns(start_date, '2021-04-15')\n",
    "    print(portfolio_return)\n",
    "    "
   ]
  },
  {
   "cell_type": "code",
   "execution_count": 15,
   "id": "68838dbf-929c-4578-8005-96dfd11b1e54",
   "metadata": {},
   "outputs": [
    {
     "name": "stdout",
     "output_type": "stream",
     "text": [
      "1.515045281909973\n",
      "1.4545940807670208\n",
      "1.404192796831198\n",
      "1.4750781139061555\n",
      "1.4217534112551489\n",
      "1.4687512126810867\n",
      "1.5092573170970573\n",
      "1.4520146814176615\n",
      "1.4011375366241339\n",
      "1.3970594001489185\n",
      "1.5670812239814684\n",
      "1.6077522876679229\n",
      "1.7603481372639975\n",
      "1.464140319483497\n",
      "1.5093295706436343\n",
      "1.4760050805139304\n",
      "1.6228694803799595\n",
      "1.5036045608556137\n",
      "1.4646989668704347\n",
      "1.763736175094853\n",
      "1.4749209849020914\n",
      "1.4904886634752104\n",
      "1.763736175094853\n",
      "1.763736175094853\n",
      "1.6616698790175302\n",
      "1.5981634405431708\n",
      "1.763736175094853\n",
      "1.6294334591116035\n",
      "1.763736175094853\n",
      "1.6125981348474285\n",
      "1.763736175094853\n",
      "1.6085176502705774\n",
      "1.6255691853015066\n",
      "1.763736175094853\n",
      "1.734167286711756\n",
      "1.7315773525775948\n",
      "1.7776238348001283\n"
     ]
    }
   ],
   "source": [
    "for i in range(5,3650,100):\n",
    "    test_performance(i)\n",
    "    #print(i)"
   ]
  },
  {
   "cell_type": "code",
   "execution_count": 11,
   "id": "6ba97ca2-d709-4ef3-ba71-4d18393fb2ea",
   "metadata": {},
   "outputs": [
    {
     "data": {
      "text/plain": [
       "2.129982512890176"
      ]
     },
     "execution_count": 11,
     "metadata": {},
     "output_type": "execute_result"
    }
   ],
   "source": [
    "calculate_SP500_returns('2011-04-01', '2021-04-15')"
   ]
  },
  {
   "cell_type": "code",
   "execution_count": null,
   "id": "c52a7ecb-7362-454d-9f70-ded4b364728c",
   "metadata": {},
   "outputs": [],
   "source": []
  }
 ],
 "metadata": {
  "kernelspec": {
   "display_name": "Python 3",
   "language": "python",
   "name": "python3"
  },
  "language_info": {
   "codemirror_mode": {
    "name": "ipython",
    "version": 3
   },
   "file_extension": ".py",
   "mimetype": "text/x-python",
   "name": "python",
   "nbconvert_exporter": "python",
   "pygments_lexer": "ipython3",
   "version": "3.9.3"
  }
 },
 "nbformat": 4,
 "nbformat_minor": 5
}
