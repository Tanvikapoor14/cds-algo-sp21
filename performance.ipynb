{
 "cells": [
  {
   "cell_type": "code",
   "execution_count": 1,
   "id": "abf150bc-707c-4f4f-8953-3339f954eac3",
   "metadata": {},
   "outputs": [],
   "source": [
    "import pandas as pd\n",
    "import portfolio\n",
    "import sectordata\n",
    "from datetime import date, datetime, timedelta"
   ]
  },
  {
   "cell_type": "code",
   "execution_count": 2,
   "id": "05e44550-eb84-4bdc-817d-2db0fec55740",
   "metadata": {},
   "outputs": [],
   "source": [
    "from scipy.cluster.hierarchy import ClusterWarning\n",
    "from warnings import simplefilter\n",
    "simplefilter(\"ignore\", ClusterWarning)"
   ]
  },
  {
   "cell_type": "code",
   "execution_count": 3,
   "id": "fd28ba46-6f8b-406c-99f6-c788256b1b3b",
   "metadata": {},
   "outputs": [
    {
     "name": "stdout",
     "output_type": "stream",
     "text": [
      "98.51360282907274\n",
      "103.29567844843277\n",
      "{'Communication': 131.44, 'Utilities': 159.89, 'Energy': 562.93, 'Real_Estate': 128.43, 'Cons_Staples': 314.85, 'Healthcare': 387.21, 'Financials': 220.72, 'Industrials': 321.21, 'Materials': 244.25, 'Cons_Disc': 308.09, 'Info_Tech': 411.19}\n"
     ]
    }
   ],
   "source": [
    "p = portfolio.Portfolio(100/11)\n",
    "print(p.get_portfolio_value('2011-04-12'))\n",
    "print(p.get_portfolio_value('2012-04-12'))\n",
    "print(p.get_sector_values('2011-04-12'))"
   ]
  },
  {
   "cell_type": "code",
   "execution_count": 4,
   "id": "be9c3f8d-666e-478b-9f4f-370bd86306f0",
   "metadata": {},
   "outputs": [
    {
     "name": "stdout",
     "output_type": "stream",
     "text": [
      "START: 132.722\n",
      "FINAL: 274.206\n",
      "Percentage gain: 106.60%\n"
     ]
    }
   ],
   "source": [
    "p.rebalance_portfolio('2014-04-11')\n",
    "\n",
    "start = 0 \n",
    "for i in p.amt_categories:\n",
    "    start += p.amt_categories[i]\n",
    "\n",
    "print(f'START: {start:.3f}')\n",
    "\n",
    "p.rebalance_portfolio('2021-04-13')\n",
    "\n",
    "final = 0 \n",
    "for i in p.amt_categories:\n",
    "    final += p.amt_categories[i]\n",
    "\n",
    "print(f'FINAL: {final:.3f}')\n",
    "print(f'Percentage gain: {(final/start-1)*100:.2f}%')"
   ]
  },
  {
   "cell_type": "code",
   "execution_count": 5,
   "id": "3ec90a15-393b-4b7b-9f02-8d3796052838",
   "metadata": {},
   "outputs": [],
   "source": [
    "def calculate_returns(start, end):\n",
    "    p = portfolio.Portfolio(100/11)\n",
    "    p.rebalance_portfolio(start)\n",
    "    \n",
    "    total_s = 0 \n",
    "    for i in p.amt_categories:\n",
    "        total_s += p.amt_categories[i]\n",
    "\n",
    "    p.rebalance_portfolio(end)\n",
    "\n",
    "    total_e = 0 \n",
    "    for i in p.amt_categories:\n",
    "        total_e += p.amt_categories[i]\n",
    "        \n",
    "    percent_return = total_e/total_s - 1\n",
    "    return percent_return"
   ]
  },
  {
   "cell_type": "code",
   "execution_count": 6,
   "id": "ef2bcd90-e5f7-4209-bc65-6f0b873bc6bd",
   "metadata": {},
   "outputs": [],
   "source": [
    "def calculate_SP500_returns(start, end):\n",
    "    start_val = sectordata.get_SP500_value(start)\n",
    "    end_val =  sectordata.get_SP500_value(end)\n",
    "    print(start_val)\n",
    "    print(end_val)\n",
    "    percent_return = end_val/start_val - 1\n",
    "    return percent_return"
   ]
  },
  {
   "cell_type": "code",
   "execution_count": 7,
   "id": "960c7b1a-e3e8-4a4f-bd6d-28147fc656f7",
   "metadata": {},
   "outputs": [
    {
     "name": "stdout",
     "output_type": "stream",
     "text": [
      "1.0660137083631986\n",
      "1815.69\n",
      "4141.59\n",
      "1.2810006113378387\n"
     ]
    }
   ],
   "source": [
    "print(calculate_returns('2014-04-11', '2021-04-13'))\n",
    "print(calculate_SP500_returns('2014-04-11', '2021-04-13'))"
   ]
  },
  {
   "cell_type": "code",
   "execution_count": 8,
   "id": "20f08299-7d85-4aeb-9a51-927e03eeb54e",
   "metadata": {},
   "outputs": [],
   "source": [
    "def intervals(start, end, delta_days):\n",
    "    delta = timedelta(days = delta_days)\n",
    "    start_date = date.fromisoformat(start)\n",
    "    end_date = date.fromisoformat(end)\n",
    "    lst = []\n",
    "    curr_date = start_date\n",
    "    while curr_date < end_date:\n",
    "        if curr_date.weekday() < 5:\n",
    "            lst.append(curr_date.isoformat())\n",
    "        curr_date += delta\n",
    "    return lst"
   ]
  },
  {
   "cell_type": "code",
   "execution_count": null,
   "id": "61557540-4973-4ba2-9de6-060fd7bbff51",
   "metadata": {},
   "outputs": [],
   "source": []
  },
  {
   "cell_type": "code",
   "execution_count": 13,
   "id": "ae0216e7-f83a-47c4-a564-43c8cbbfd37d",
   "metadata": {},
   "outputs": [],
   "source": [
    "def test_performance(frequency):\n",
    "    p = portfolio.Portfolio(100/11)\n",
    "    start_date = '2012-10-03'\n",
    "    end_date = '2021-03-02'\n",
    "    p.rebalance_portfolio(start_date)\n",
    "    start_val = 100\n",
    "    rebalance_dates = intervals(start_date, end_date, frequency)\n",
    "    for d in rebalance_dates:\n",
    "        p.rebalance_portfolio(d)\n",
    "    \n",
    "    portfolio_return = p.get_portfolio_value(end_date)/start_val-1 \n",
    "    print(portfolio_return)"
   ]
  },
  {
   "cell_type": "code",
   "execution_count": null,
   "id": "68838dbf-929c-4578-8005-96dfd11b1e54",
   "metadata": {},
   "outputs": [
    {
     "name": "stdout",
     "output_type": "stream",
     "text": [
      "1.3527983783756348\n",
      "1.369790993826339\n",
      "1.3212092201879746\n",
      "1.351811799956077\n",
      "1.29200651921979\n",
      "1.411742016418267\n",
      "1.422591792031148\n",
      "1.3596008936946147\n",
      "1.3864483566225743\n",
      "1.289604892641313\n",
      "1.3321608794196487\n",
      "1.4420882083378128\n",
      "1.3861165465495544\n",
      "1.3629187287056657\n",
      "1.2920998292492665\n",
      "1.3128651955865167\n",
      "1.3305085372775172\n",
      "1.3548064550433425\n",
      "1.394661569545221\n",
      "1.3722973942757615\n",
      "1.3066347773525986\n",
      "1.2455006716875725\n",
      "1.3769775994496634\n",
      "1.2900433683826629\n",
      "1.297596149448622\n",
      "1.2831941482996134\n",
      "1.3880800502331674\n",
      "1.3185234861970763\n",
      "1.3415627535573207\n",
      "1.3307105544077227\n",
      "1.324957973609473\n",
      "1.332952004350421\n",
      "1.3509369847717325\n",
      "1.3483406026328812\n",
      "1.323000549388003\n",
      "1.2818006324244533\n",
      "1.3512693934848783\n",
      "1.3933677276698289\n",
      "1.3716898484059046\n",
      "1.267495015751976\n",
      "1.2575682064890663\n",
      "1.2656680210129903\n",
      "1.459751132842357\n",
      "1.3360380728698877\n",
      "1.2857341924695955\n",
      "1.2936236328817272\n",
      "1.2924234578752638\n",
      "1.2369703276063273\n",
      "1.3181940649471375\n",
      "1.404480476024648\n",
      "1.3591269454586374\n",
      "1.4089732428647639\n",
      "1.2779556198122366\n",
      "1.2945964508707215\n",
      "1.303990453532193\n",
      "1.3224054769761224\n",
      "1.3537099050441537\n",
      "1.2570233399397366\n",
      "1.3542629766047858\n",
      "1.3039502810601822\n",
      "1.2851325718435214\n",
      "1.2185549141366852\n",
      "1.365203386201265\n",
      "1.1169637262683367\n",
      "1.393570022664644\n",
      "1.254199370997072\n",
      "1.365694879391631\n",
      "1.327270885173081\n",
      "1.3493409326650898\n",
      "1.3074364263501566\n",
      "1.3829305807304828\n",
      "1.2612450949340386\n",
      "1.3568475228474686\n",
      "1.3009067471632734\n",
      "1.1569190055438678\n",
      "1.2789230075961493\n",
      "1.3035584057218226\n",
      "1.2996639424855774\n",
      "1.2606615007921018\n",
      "1.2037220124635306\n",
      "1.320444032567555\n",
      "1.2846873436904516\n",
      "1.3464047846101392\n",
      "1.3353561943437056\n",
      "1.1615710469222034\n",
      "1.341840921656798\n",
      "1.194394200604509\n",
      "1.2669761223724376\n",
      "1.2940302998121864\n",
      "1.2807327821028403\n",
      "1.3258310778707005\n",
      "1.2799914809054043\n",
      "1.3393021749663299\n",
      "1.2870111212220392\n",
      "1.2099274750931652\n",
      "1.2707853163689582\n",
      "1.2574073586394166\n",
      "1.2021341973932875\n",
      "1.2963893582955537\n",
      "1.284402242452059\n",
      "1.1748918387081138\n",
      "1.1772805838102673\n",
      "1.3036081701238804\n",
      "1.298673324536288\n",
      "1.3885075916109169\n",
      "1.140759338292856\n",
      "1.2313304245204062\n",
      "1.2397827521788338\n",
      "1.3327972488492468\n",
      "1.256454479070722\n",
      "1.3229448645195219\n",
      "1.3049945997369572\n",
      "1.1566433938293024\n",
      "1.3119622589631361\n",
      "1.2351845932505539\n",
      "1.2531259996859716\n",
      "1.215804567520737\n",
      "1.2377291213796622\n",
      "1.3164848361552575\n",
      "1.3019214734096987\n",
      "1.2069748314230178\n",
      "1.3155278951165341\n",
      "1.2589253513217038\n",
      "1.2273164702366866\n",
      "1.2871148188687256\n",
      "1.3156079516140697\n",
      "1.335449785727759\n",
      "1.3232285509322348\n",
      "1.30233934816629\n",
      "1.2210070912387168\n",
      "1.3287629872901734\n",
      "1.3386529770892528\n",
      "1.1839278333044052\n",
      "1.2311360940750085\n",
      "1.2702856379979188\n",
      "1.2077219936513957\n",
      "1.1126517107056157\n",
      "1.3862502265663226\n",
      "1.4299466850405151\n",
      "1.2260795367790167\n",
      "1.364293697347088\n",
      "1.3295024078566087\n",
      "1.2719830335253297\n",
      "1.1128626148034972\n",
      "1.2543154917243071\n",
      "1.3273301277258547\n",
      "1.32124757197519\n",
      "1.2738050995890497\n",
      "1.2955480555508463\n",
      "1.363464777501156\n",
      "1.3500842085877185\n",
      "1.2952099480608616\n",
      "1.2453551654464055\n",
      "1.1960295015788152\n",
      "1.1239992094454259\n",
      "1.2982601038625776\n",
      "1.1974813853457267\n",
      "1.2928234498269715\n",
      "1.3303580502282695\n",
      "1.301075399589982\n",
      "1.1599696194779816\n",
      "1.0762728586595447\n",
      "1.2593042553458593\n",
      "1.1135817456359978\n"
     ]
    }
   ],
   "source": [
    "for i in range(6,365):\n",
    "    test_performance(i)\n",
    "    #print(i)"
   ]
  },
  {
   "cell_type": "code",
   "execution_count": null,
   "id": "6ba97ca2-d709-4ef3-ba71-4d18393fb2ea",
   "metadata": {},
   "outputs": [],
   "source": [
    "calculate_SP500_returns('2012-10-03', '2015-03-02')"
   ]
  },
  {
   "cell_type": "code",
   "execution_count": null,
   "id": "c52a7ecb-7362-454d-9f70-ded4b364728c",
   "metadata": {},
   "outputs": [],
   "source": []
  }
 ],
 "metadata": {
  "kernelspec": {
   "display_name": "Python 3",
   "language": "python",
   "name": "python3"
  },
  "language_info": {
   "codemirror_mode": {
    "name": "ipython",
    "version": 3
   },
   "file_extension": ".py",
   "mimetype": "text/x-python",
   "name": "python",
   "nbconvert_exporter": "python",
   "pygments_lexer": "ipython3",
   "version": "3.9.4"
  }
 },
 "nbformat": 4,
 "nbformat_minor": 5
}
