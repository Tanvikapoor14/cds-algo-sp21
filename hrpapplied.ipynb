{
 "cells": [
  {
   "cell_type": "code",
   "execution_count": 1,
   "metadata": {},
   "outputs": [],
   "source": [
    "import pandas as pd\n",
    "import hrp"
   ]
  },
  {
   "cell_type": "code",
   "execution_count": 2,
   "metadata": {},
   "outputs": [],
   "source": [
    "df = pd.read_csv(\"CDSData.csv\")\n",
    "del df['S&P_500']"
   ]
  },
  {
   "cell_type": "code",
   "execution_count": 3,
   "metadata": {
    "scrolled": true
   },
   "outputs": [
    {
     "name": "stdout",
     "output_type": "stream",
     "text": [
      "            Date  Communication  Cons_Disc  Cons_Staples    Energy  \\\n",
      "0     04/01/2011      -0.001426   0.007231      0.005893  0.003988   \n",
      "1     04/04/2011       0.002255   0.001384      0.001996 -0.000186   \n",
      "2     04/05/2011      -0.005024   0.003858      0.001189  0.003415   \n",
      "3     04/06/2011      -0.006180  -0.002178      0.003882 -0.009434   \n",
      "4     04/07/2011      -0.000076  -0.003338      0.000959  0.001973   \n",
      "...          ...            ...        ...           ...       ...   \n",
      "2521  04/09/2021       0.001670   0.011596     -0.000466 -0.004970   \n",
      "2522  04/12/2021      -0.006033   0.005562      0.004506 -0.009441   \n",
      "2523  04/13/2021       0.000878   0.010357     -0.004908  0.000970   \n",
      "2524  04/14/2021      -0.008618  -0.011736     -0.000806  0.029120   \n",
      "2525  04/15/2021       0.012717   0.008348      0.008048 -0.008822   \n",
      "\n",
      "      Financials  Healthcare  Industrials  Info_Tech  Materials  Real Estate  \\\n",
      "0       0.008020    0.005822     0.009024  -0.000862   0.003369     0.003200   \n",
      "1      -0.000719    0.005815     0.001186  -0.005153   0.006954    -0.001139   \n",
      "2      -0.001035   -0.004904    -0.004284  -0.000747   0.011233    -0.000380   \n",
      "3       0.011392    0.001893     0.001800   0.007232  -0.008125    -0.002815   \n",
      "4      -0.004407   -0.001553    -0.004752   0.000598  -0.001860    -0.008316   \n",
      "...          ...         ...          ...        ...        ...          ...   \n",
      "2521    0.008585    0.011649     0.009909   0.009909   0.008305     0.001430   \n",
      "2522    0.004350    0.000494     0.003400  -0.004845   0.003143     0.005472   \n",
      "2523   -0.009225    0.004432    -0.004526   0.009549  -0.001884     0.006350   \n",
      "2524    0.006644   -0.001201     0.001072  -0.011456   0.006458    -0.006937   \n",
      "2525   -0.001060    0.017433     0.003859   0.017858   0.012596     0.019535   \n",
      "\n",
      "      Utilities  \n",
      "0      0.007164  \n",
      "1     -0.000797  \n",
      "2     -0.003253  \n",
      "3      0.007511  \n",
      "4     -0.004767  \n",
      "...         ...  \n",
      "2521  -0.000698  \n",
      "2522   0.000698  \n",
      "2523   0.012222  \n",
      "2524   0.004015  \n",
      "2525   0.011071  \n",
      "\n",
      "[2526 rows x 12 columns]\n"
     ]
    },
    {
     "name": "stderr",
     "output_type": "stream",
     "text": [
      "/home/kalpturer/cds-algo-sp21/hrp.py:161: ClusterWarning: scipy.cluster: The symmetric non-negative hollow observation matrix looks suspiciously like an uncondensed distance matrix\n",
      "  link = sch.linkage(dist, 'single')\n"
     ]
    },
    {
     "data": {
      "text/plain": [
       "Communication    0.144623\n",
       "Utilities        0.146204\n",
       "Energy           0.067658\n",
       "Real Estate      0.075623\n",
       "Cons_Staples     0.153964\n",
       "Healthcare       0.127841\n",
       "Financials       0.036614\n",
       "Industrials      0.049434\n",
       "Materials        0.088559\n",
       "Cons_Disc        0.062321\n",
       "Info_Tech        0.047160\n",
       "dtype: float64"
      ]
     },
     "execution_count": 3,
     "metadata": {},
     "output_type": "execute_result"
    }
   ],
   "source": [
    "hrp.main(df)"
   ]
  },
  {
   "cell_type": "code",
   "execution_count": 13,
   "metadata": {},
   "outputs": [
    {
     "data": {
      "text/plain": [
       "Int64Index([7], dtype='int64')"
      ]
     },
     "execution_count": 13,
     "metadata": {},
     "output_type": "execute_result"
    }
   ],
   "source": [
    "df.loc[df['Date'] == start].index"
   ]
  },
  {
   "cell_type": "code",
   "execution_count": null,
   "metadata": {},
   "outputs": [],
   "source": []
  }
 ],
 "metadata": {
  "kernelspec": {
   "display_name": "Python 3",
   "language": "python",
   "name": "python3"
  },
  "language_info": {
   "codemirror_mode": {
    "name": "ipython",
    "version": 3
   },
   "file_extension": ".py",
   "mimetype": "text/x-python",
   "name": "python",
   "nbconvert_exporter": "python",
   "pygments_lexer": "ipython3",
   "version": "3.9.3"
  }
 },
 "nbformat": 4,
 "nbformat_minor": 4
}
